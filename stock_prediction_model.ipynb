{
 "cells": [
  {
   "cell_type": "markdown",
   "id": "5a50f4d7-3453-4625-8467-35360cf60697",
   "metadata": {},
   "source": [
    "# Starting"
   ]
  },
  {
   "cell_type": "code",
   "execution_count": 111,
   "id": "eae0b0a3-f7cf-4df4-ae94-3d9cdda2080f",
   "metadata": {
    "tags": []
   },
   "outputs": [],
   "source": [
    "import pandas as pd\n",
    "import numpy as np\n",
    "from sklearn import metrics\n",
    "%matplotlib inline\n",
    "import matplotlib.pyplot as plt"
   ]
  },
  {
   "cell_type": "code",
   "execution_count": 112,
   "id": "b5239c68-0a1e-45ed-8b18-c381c74ce53d",
   "metadata": {
    "tags": []
   },
   "outputs": [],
   "source": [
    "dataset = pd.read_csv('all_stocks_5yr.csv')"
   ]
  },
  {
   "cell_type": "code",
   "execution_count": 178,
   "id": "714a0c5f-b4ce-477d-ba5a-4331a4f08578",
   "metadata": {
    "tags": []
   },
   "outputs": [
    {
     "data": {
      "text/html": [
       "<div>\n",
       "<style scoped>\n",
       "    .dataframe tbody tr th:only-of-type {\n",
       "        vertical-align: middle;\n",
       "    }\n",
       "\n",
       "    .dataframe tbody tr th {\n",
       "        vertical-align: top;\n",
       "    }\n",
       "\n",
       "    .dataframe thead th {\n",
       "        text-align: right;\n",
       "    }\n",
       "</style>\n",
       "<table border=\"1\" class=\"dataframe\">\n",
       "  <thead>\n",
       "    <tr style=\"text-align: right;\">\n",
       "      <th></th>\n",
       "      <th>date</th>\n",
       "      <th>open</th>\n",
       "      <th>high</th>\n",
       "      <th>low</th>\n",
       "      <th>close</th>\n",
       "      <th>volume</th>\n",
       "    </tr>\n",
       "  </thead>\n",
       "  <tbody>\n",
       "    <tr>\n",
       "      <th>0</th>\n",
       "      <td>2013-02-08</td>\n",
       "      <td>15.07</td>\n",
       "      <td>15.12</td>\n",
       "      <td>14.63</td>\n",
       "      <td>14.75</td>\n",
       "      <td>8407500</td>\n",
       "    </tr>\n",
       "    <tr>\n",
       "      <th>1</th>\n",
       "      <td>2013-02-11</td>\n",
       "      <td>14.89</td>\n",
       "      <td>15.01</td>\n",
       "      <td>14.26</td>\n",
       "      <td>14.46</td>\n",
       "      <td>8882000</td>\n",
       "    </tr>\n",
       "    <tr>\n",
       "      <th>2</th>\n",
       "      <td>2013-02-12</td>\n",
       "      <td>14.45</td>\n",
       "      <td>14.51</td>\n",
       "      <td>14.10</td>\n",
       "      <td>14.27</td>\n",
       "      <td>8126000</td>\n",
       "    </tr>\n",
       "    <tr>\n",
       "      <th>3</th>\n",
       "      <td>2013-02-13</td>\n",
       "      <td>14.30</td>\n",
       "      <td>14.94</td>\n",
       "      <td>14.25</td>\n",
       "      <td>14.66</td>\n",
       "      <td>10259500</td>\n",
       "    </tr>\n",
       "    <tr>\n",
       "      <th>4</th>\n",
       "      <td>2013-02-14</td>\n",
       "      <td>14.94</td>\n",
       "      <td>14.96</td>\n",
       "      <td>13.16</td>\n",
       "      <td>13.99</td>\n",
       "      <td>31879900</td>\n",
       "    </tr>\n",
       "  </tbody>\n",
       "</table>\n",
       "</div>"
      ],
      "text/plain": [
       "        date   open   high    low  close    volume\n",
       "0 2013-02-08  15.07  15.12  14.63  14.75   8407500\n",
       "1 2013-02-11  14.89  15.01  14.26  14.46   8882000\n",
       "2 2013-02-12  14.45  14.51  14.10  14.27   8126000\n",
       "3 2013-02-13  14.30  14.94  14.25  14.66  10259500\n",
       "4 2013-02-14  14.94  14.96  13.16  13.99  31879900"
      ]
     },
     "execution_count": 178,
     "metadata": {},
     "output_type": "execute_result"
    }
   ],
   "source": [
    "dataset.head()"
   ]
  },
  {
   "cell_type": "markdown",
   "id": "d0e33837-aec7-4019-974e-ddb486f9e8ee",
   "metadata": {},
   "source": [
    "# to drop unnecessary columns"
   ]
  },
  {
   "cell_type": "code",
   "execution_count": 137,
   "id": "73281492-7e48-4def-96dc-7eb7b9966ae6",
   "metadata": {
    "tags": []
   },
   "outputs": [],
   "source": [
    "dataset['date']= pd.to_datetime(dataset.date)"
   ]
  },
  {
   "cell_type": "code",
   "execution_count": 177,
   "id": "65fd5898-a0ca-4cfa-b4b0-04f00dedcb26",
   "metadata": {
    "tags": []
   },
   "outputs": [
    {
     "name": "stdout",
     "output_type": "stream",
     "text": [
      "Index(['date', 'open', 'high', 'low', 'close', 'volume'], dtype='object')\n"
     ]
    }
   ],
   "source": [
    "print(dataset.columns)\n"
   ]
  },
  {
   "cell_type": "code",
   "execution_count": 179,
   "id": "a180db58-7cd9-45a0-b90d-463d7433054c",
   "metadata": {
    "tags": []
   },
   "outputs": [],
   "source": [
    "# dataset.drop('Name',axis=1,inplace=True)"
   ]
  },
  {
   "cell_type": "code",
   "execution_count": 180,
   "id": "4a365906-c765-498d-9603-589293c57b15",
   "metadata": {
    "tags": []
   },
   "outputs": [
    {
     "data": {
      "text/plain": [
       "(619029, 6)"
      ]
     },
     "execution_count": 180,
     "metadata": {},
     "output_type": "execute_result"
    }
   ],
   "source": [
    "dataset.shape"
   ]
  },
  {
   "cell_type": "code",
   "execution_count": 181,
   "id": "729861b0-25ef-4bfe-9760-c48322e5a210",
   "metadata": {
    "tags": []
   },
   "outputs": [],
   "source": [
    "dataset.dropna(inplace=True)\n"
   ]
  },
  {
   "cell_type": "code",
   "execution_count": 182,
   "id": "d16730c8-4129-4f18-8af2-b55fc45dfbf3",
   "metadata": {
    "tags": []
   },
   "outputs": [
    {
     "data": {
      "text/plain": [
       "date      0\n",
       "open      0\n",
       "high      0\n",
       "low       0\n",
       "close     0\n",
       "volume    0\n",
       "dtype: int64"
      ]
     },
     "execution_count": 182,
     "metadata": {},
     "output_type": "execute_result"
    }
   ],
   "source": [
    "dataset.isnull().sum()"
   ]
  },
  {
   "cell_type": "code",
   "execution_count": 145,
   "id": "508cdab4-e20c-4030-b5ba-212429e29599",
   "metadata": {
    "tags": []
   },
   "outputs": [
    {
     "data": {
      "text/plain": [
       "date      False\n",
       "open      False\n",
       "high      False\n",
       "low       False\n",
       "close     False\n",
       "volume    False\n",
       "dtype: bool"
      ]
     },
     "execution_count": 145,
     "metadata": {},
     "output_type": "execute_result"
    }
   ],
   "source": [
    "dataset.isna().any()"
   ]
  },
  {
   "cell_type": "code",
   "execution_count": 146,
   "id": "7a370666-d608-4916-99d2-e4bc6994d0ad",
   "metadata": {
    "tags": []
   },
   "outputs": [
    {
     "name": "stdout",
     "output_type": "stream",
     "text": [
      "<class 'pandas.core.frame.DataFrame'>\n",
      "Index: 619029 entries, 0 to 619039\n",
      "Data columns (total 6 columns):\n",
      " #   Column  Non-Null Count   Dtype         \n",
      "---  ------  --------------   -----         \n",
      " 0   date    619029 non-null  datetime64[ns]\n",
      " 1   open    619029 non-null  float64       \n",
      " 2   high    619029 non-null  float64       \n",
      " 3   low     619029 non-null  float64       \n",
      " 4   close   619029 non-null  float64       \n",
      " 5   volume  619029 non-null  int64         \n",
      "dtypes: datetime64[ns](1), float64(4), int64(1)\n",
      "memory usage: 33.1 MB\n"
     ]
    }
   ],
   "source": [
    "dataset.info()"
   ]
  },
  {
   "cell_type": "code",
   "execution_count": 147,
   "id": "796b5f6a-ab9d-47b6-a247-aae48ef6c0ab",
   "metadata": {
    "tags": []
   },
   "outputs": [
    {
     "data": {
      "text/html": [
       "<div>\n",
       "<style scoped>\n",
       "    .dataframe tbody tr th:only-of-type {\n",
       "        vertical-align: middle;\n",
       "    }\n",
       "\n",
       "    .dataframe tbody tr th {\n",
       "        vertical-align: top;\n",
       "    }\n",
       "\n",
       "    .dataframe thead th {\n",
       "        text-align: right;\n",
       "    }\n",
       "</style>\n",
       "<table border=\"1\" class=\"dataframe\">\n",
       "  <thead>\n",
       "    <tr style=\"text-align: right;\">\n",
       "      <th></th>\n",
       "      <th>date</th>\n",
       "      <th>open</th>\n",
       "      <th>high</th>\n",
       "      <th>low</th>\n",
       "      <th>close</th>\n",
       "      <th>volume</th>\n",
       "    </tr>\n",
       "  </thead>\n",
       "  <tbody>\n",
       "    <tr>\n",
       "      <th>count</th>\n",
       "      <td>619029</td>\n",
       "      <td>619029.000000</td>\n",
       "      <td>619029.000000</td>\n",
       "      <td>619029.000000</td>\n",
       "      <td>619029.000000</td>\n",
       "      <td>6.190290e+05</td>\n",
       "    </tr>\n",
       "    <tr>\n",
       "      <th>mean</th>\n",
       "      <td>2015-08-18 00:45:31.033280</td>\n",
       "      <td>83.023334</td>\n",
       "      <td>83.778419</td>\n",
       "      <td>82.256200</td>\n",
       "      <td>83.043305</td>\n",
       "      <td>4.321892e+06</td>\n",
       "    </tr>\n",
       "    <tr>\n",
       "      <th>min</th>\n",
       "      <td>2013-02-08 00:00:00</td>\n",
       "      <td>1.620000</td>\n",
       "      <td>1.690000</td>\n",
       "      <td>1.500000</td>\n",
       "      <td>1.590000</td>\n",
       "      <td>1.010000e+02</td>\n",
       "    </tr>\n",
       "    <tr>\n",
       "      <th>25%</th>\n",
       "      <td>2014-05-20 00:00:00</td>\n",
       "      <td>40.220000</td>\n",
       "      <td>40.620000</td>\n",
       "      <td>39.830000</td>\n",
       "      <td>40.240800</td>\n",
       "      <td>1.070351e+06</td>\n",
       "    </tr>\n",
       "    <tr>\n",
       "      <th>50%</th>\n",
       "      <td>2015-08-21 00:00:00</td>\n",
       "      <td>62.590000</td>\n",
       "      <td>63.150000</td>\n",
       "      <td>62.020000</td>\n",
       "      <td>62.620000</td>\n",
       "      <td>2.082165e+06</td>\n",
       "    </tr>\n",
       "    <tr>\n",
       "      <th>75%</th>\n",
       "      <td>2016-11-15 00:00:00</td>\n",
       "      <td>94.370000</td>\n",
       "      <td>95.180000</td>\n",
       "      <td>93.540000</td>\n",
       "      <td>94.410000</td>\n",
       "      <td>4.284550e+06</td>\n",
       "    </tr>\n",
       "    <tr>\n",
       "      <th>max</th>\n",
       "      <td>2018-02-07 00:00:00</td>\n",
       "      <td>2044.000000</td>\n",
       "      <td>2067.990000</td>\n",
       "      <td>2035.110000</td>\n",
       "      <td>2049.000000</td>\n",
       "      <td>6.182376e+08</td>\n",
       "    </tr>\n",
       "    <tr>\n",
       "      <th>std</th>\n",
       "      <td>NaN</td>\n",
       "      <td>97.378769</td>\n",
       "      <td>98.207735</td>\n",
       "      <td>96.507634</td>\n",
       "      <td>97.388913</td>\n",
       "      <td>8.693671e+06</td>\n",
       "    </tr>\n",
       "  </tbody>\n",
       "</table>\n",
       "</div>"
      ],
      "text/plain": [
       "                             date           open           high  \\\n",
       "count                      619029  619029.000000  619029.000000   \n",
       "mean   2015-08-18 00:45:31.033280      83.023334      83.778419   \n",
       "min           2013-02-08 00:00:00       1.620000       1.690000   \n",
       "25%           2014-05-20 00:00:00      40.220000      40.620000   \n",
       "50%           2015-08-21 00:00:00      62.590000      63.150000   \n",
       "75%           2016-11-15 00:00:00      94.370000      95.180000   \n",
       "max           2018-02-07 00:00:00    2044.000000    2067.990000   \n",
       "std                           NaN      97.378769      98.207735   \n",
       "\n",
       "                 low          close        volume  \n",
       "count  619029.000000  619029.000000  6.190290e+05  \n",
       "mean       82.256200      83.043305  4.321892e+06  \n",
       "min         1.500000       1.590000  1.010000e+02  \n",
       "25%        39.830000      40.240800  1.070351e+06  \n",
       "50%        62.020000      62.620000  2.082165e+06  \n",
       "75%        93.540000      94.410000  4.284550e+06  \n",
       "max      2035.110000    2049.000000  6.182376e+08  \n",
       "std        96.507634      97.388913  8.693671e+06  "
      ]
     },
     "execution_count": 147,
     "metadata": {},
     "output_type": "execute_result"
    }
   ],
   "source": [
    "dataset.describe()"
   ]
  },
  {
   "cell_type": "code",
   "execution_count": 148,
   "id": "dd5359f5-e97b-4a45-99db-8bebfc2547b1",
   "metadata": {
    "tags": []
   },
   "outputs": [
    {
     "name": "stdout",
     "output_type": "stream",
     "text": [
      "619029\n"
     ]
    }
   ],
   "source": [
    "print(len(dataset))"
   ]
  },
  {
   "cell_type": "code",
   "execution_count": 149,
   "id": "e16e2376-70b2-49f0-9a32-017159d59ccd",
   "metadata": {
    "tags": []
   },
   "outputs": [
    {
     "data": {
      "text/plain": [
       "<Axes: >"
      ]
     },
     "execution_count": 149,
     "metadata": {},
     "output_type": "execute_result"
    },
    {
     "data": {
      "image/png": "[encoded data removed]",
      "text/plain": [
       "<Figure size 1600x600 with 1 Axes>"
      ]
     },
     "metadata": {},
     "output_type": "display_data"
    }
   ],
   "source": [
    "dataset['open'].plot(figsize=(16,6))"
   ]
  },
  {
   "cell_type": "code",
   "execution_count": 150,
   "id": "a71f82dd-90e9-4cff-b034-eecb06a04915",
   "metadata": {
    "tags": []
   },
   "outputs": [],
   "source": [
    "x= dataset[['open','high','low','volume']]\n",
    "y= dataset['close']"
   ]
  },
  {
   "cell_type": "code",
   "execution_count": 151,
   "id": "c32edaa5-d1e9-4687-888e-76e7d0efee7c",
   "metadata": {
    "tags": []
   },
   "outputs": [],
   "source": [
    "from sklearn.model_selection import train_test_split\n",
    "x_train,x_test,y_train,y_test= train_test_split(x,y,random_state=0)"
   ]
  },
  {
   "cell_type": "code",
   "execution_count": 152,
   "id": "37bb06af-7df9-4e5b-9d74-a641049c2959",
   "metadata": {
    "tags": []
   },
   "outputs": [
    {
     "data": {
      "text/plain": [
       "(464271, 4)"
      ]
     },
     "execution_count": 152,
     "metadata": {},
     "output_type": "execute_result"
    }
   ],
   "source": [
    "x_train.shape"
   ]
  },
  {
   "cell_type": "code",
   "execution_count": 153,
   "id": "4f148036-443a-4d6e-a047-b832d66d3262",
   "metadata": {
    "tags": []
   },
   "outputs": [
    {
     "data": {
      "text/plain": [
       "(154758, 4)"
      ]
     },
     "execution_count": 153,
     "metadata": {},
     "output_type": "execute_result"
    }
   ],
   "source": [
    "x_test.shape"
   ]
  },
  {
   "cell_type": "code",
   "execution_count": 154,
   "id": "fcb10c6f-d55a-4d09-88f5-5e191ff788fc",
   "metadata": {
    "tags": []
   },
   "outputs": [
    {
     "data": {
      "text/plain": [
       "open      0\n",
       "high      0\n",
       "low       0\n",
       "volume    0\n",
       "dtype: int64"
      ]
     },
     "execution_count": 154,
     "metadata": {},
     "output_type": "execute_result"
    }
   ],
   "source": [
    "x_train.isnull().sum()"
   ]
  },
  {
   "cell_type": "code",
   "execution_count": 155,
   "id": "164014e3-9f39-460f-b5df-25422059ce03",
   "metadata": {
    "tags": []
   },
   "outputs": [
    {
     "data": {
      "text/plain": [
       "0"
      ]
     },
     "execution_count": 155,
     "metadata": {},
     "output_type": "execute_result"
    }
   ],
   "source": [
    "y_train.isnull().sum()"
   ]
  },
  {
   "cell_type": "code",
   "execution_count": 156,
   "id": "33fcc6ad-a66d-46b2-9c9f-db3531d665b2",
   "metadata": {
    "tags": []
   },
   "outputs": [
    {
     "data": {
      "text/plain": [
       "(464271,)"
      ]
     },
     "execution_count": 156,
     "metadata": {},
     "output_type": "execute_result"
    }
   ],
   "source": [
    "y_train.shape"
   ]
  },
  {
   "cell_type": "code",
   "execution_count": 157,
   "id": "1253d8b7-2e02-48ae-9a8c-3246b8b76a96",
   "metadata": {
    "tags": []
   },
   "outputs": [],
   "source": [
    "dataset.dropna(inplace=True)\n"
   ]
  },
  {
   "cell_type": "code",
   "execution_count": 158,
   "id": "e732dc08-d5a9-4bda-aeb2-244b62374230",
   "metadata": {
    "tags": []
   },
   "outputs": [],
   "source": [
    "from sklearn.linear_model import LinearRegression\n",
    "from sklearn.metrics import confusion_matrix,accuracy_score\n",
    "regressor = LinearRegression()"
   ]
  },
  {
   "cell_type": "code",
   "execution_count": 159,
   "id": "3a75fae5-6d74-4f5a-b06a-d137352b16e6",
   "metadata": {
    "tags": []
   },
   "outputs": [
    {
     "data": {
      "text/html": [
       "<style>#sk-container-id-2 {color: black;}#sk-container-id-2 pre{padding: 0;}#sk-container-id-2 div.sk-toggleable {background-color: white;}#sk-container-id-2 label.sk-toggleable__label {cursor: pointer;display: block;width: 100%;margin-bottom: 0;padding: 0.3em;box-sizing: border-box;text-align: center;}#sk-container-id-2 label.sk-toggleable__label-arrow:before {content: \"▸\";float: left;margin-right: 0.25em;color: #696969;}#sk-container-id-2 label.sk-toggleable__label-arrow:hover:before {color: black;}#sk-container-id-2 div.sk-estimator:hover label.sk-toggleable__label-arrow:before {color: black;}#sk-container-id-2 div.sk-toggleable__content {max-height: 0;max-width: 0;overflow: hidden;text-align: left;background-color: #f0f8ff;}#sk-container-id-2 div.sk-toggleable__content pre {margin: 0.2em;color: black;border-radius: 0.25em;background-color: #f0f8ff;}#sk-container-id-2 input.sk-toggleable__control:checked~div.sk-toggleable__content {max-height: 200px;max-width: 100%;overflow: auto;}#sk-container-id-2 input.sk-toggleable__control:checked~label.sk-toggleable__label-arrow:before {content: \"▾\";}#sk-container-id-2 div.sk-estimator input.sk-toggleable__control:checked~label.sk-toggleable__label {background-color: #d4ebff;}#sk-container-id-2 div.sk-label input.sk-toggleable__control:checked~label.sk-toggleable__label {background-color: #d4ebff;}#sk-container-id-2 input.sk-hidden--visually {border: 0;clip: rect(1px 1px 1px 1px);clip: rect(1px, 1px, 1px, 1px);height: 1px;margin: -1px;overflow: hidden;padding: 0;position: absolute;width: 1px;}#sk-container-id-2 div.sk-estimator {font-family: monospace;background-color: #f0f8ff;border: 1px dotted black;border-radius: 0.25em;box-sizing: border-box;margin-bottom: 0.5em;}#sk-container-id-2 div.sk-estimator:hover {background-color: #d4ebff;}#sk-container-id-2 div.sk-parallel-item::after {content: \"\";width: 100%;border-bottom: 1px solid gray;flex-grow: 1;}#sk-container-id-2 div.sk-label:hover label.sk-toggleable__label {background-color: #d4ebff;}#sk-container-id-2 div.sk-serial::before {content: \"\";position: absolute;border-left: 1px solid gray;box-sizing: border-box;top: 0;bottom: 0;left: 50%;z-index: 0;}#sk-container-id-2 div.sk-serial {display: flex;flex-direction: column;align-items: center;background-color: white;padding-right: 0.2em;padding-left: 0.2em;position: relative;}#sk-container-id-2 div.sk-item {position: relative;z-index: 1;}#sk-container-id-2 div.sk-parallel {display: flex;align-items: stretch;justify-content: center;background-color: white;position: relative;}#sk-container-id-2 div.sk-item::before, #sk-container-id-2 div.sk-parallel-item::before {content: \"\";position: absolute;border-left: 1px solid gray;box-sizing: border-box;top: 0;bottom: 0;left: 50%;z-index: -1;}#sk-container-id-2 div.sk-parallel-item {display: flex;flex-direction: column;z-index: 1;position: relative;background-color: white;}#sk-container-id-2 div.sk-parallel-item:first-child::after {align-self: flex-end;width: 50%;}#sk-container-id-2 div.sk-parallel-item:last-child::after {align-self: flex-start;width: 50%;}#sk-container-id-2 div.sk-parallel-item:only-child::after {width: 0;}#sk-container-id-2 div.sk-dashed-wrapped {border: 1px dashed gray;margin: 0 0.4em 0.5em 0.4em;box-sizing: border-box;padding-bottom: 0.4em;background-color: white;}#sk-container-id-2 div.sk-label label {font-family: monospace;font-weight: bold;display: inline-block;line-height: 1.2em;}#sk-container-id-2 div.sk-label-container {text-align: center;}#sk-container-id-2 div.sk-container {/* jupyter's `normalize.less` sets `[hidden] { display: none; }` but bootstrap.min.css set `[hidden] { display: none !important; }` so we also need the `!important` here to be able to override the default hidden behavior on the sphinx rendered scikit-learn.org. See: https://github.com/scikit-learn/scikit-learn/issues/21755 */display: inline-block !important;position: relative;}#sk-container-id-2 div.sk-text-repr-fallback {display: none;}</style><div id=\"sk-container-id-2\" class=\"sk-top-container\"><div class=\"sk-text-repr-fallback\"><pre>LinearRegression()</pre><b>In a Jupyter environment, please rerun this cell to show the HTML representation or trust the notebook. <br />On GitHub, the HTML representation is unable to render, please try loading this page with nbviewer.org.</b></div><div class=\"sk-container\" hidden><div class=\"sk-item\"><div class=\"sk-estimator sk-toggleable\"><input class=\"sk-toggleable__control sk-hidden--visually\" id=\"sk-estimator-id-2\" type=\"checkbox\" checked><label for=\"sk-estimator-id-2\" class=\"sk-toggleable__label sk-toggleable__label-arrow\">LinearRegression</label><div class=\"sk-toggleable__content\"><pre>LinearRegression()</pre></div></div></div></div></div>"
      ],
      "text/plain": [
       "LinearRegression()"
      ]
     },
     "execution_count": 159,
     "metadata": {},
     "output_type": "execute_result"
    }
   ],
   "source": [
    "regressor.fit(x_train,y_train)"
   ]
  },
  {
   "cell_type": "code",
   "execution_count": 160,
   "id": "72e0b14e-ae78-451d-9111-03d53551ff21",
   "metadata": {
    "tags": []
   },
   "outputs": [
    {
     "name": "stdout",
     "output_type": "stream",
     "text": [
      "[-5.59296668e-01  7.88040082e-01  7.71543888e-01  3.12641024e-11]\n"
     ]
    }
   ],
   "source": [
    "print(regressor.coef_)"
   ]
  },
  {
   "cell_type": "code",
   "execution_count": 161,
   "id": "0c1b5b20-d6b0-4c85-9971-e33480c1549f",
   "metadata": {
    "tags": []
   },
   "outputs": [
    {
     "name": "stdout",
     "output_type": "stream",
     "text": [
      "-0.007208102417379791\n"
     ]
    }
   ],
   "source": [
    "print(regressor.intercept_)"
   ]
  },
  {
   "cell_type": "code",
   "execution_count": 162,
   "id": "50c100b0-bdd3-481f-9f6d-a4b1b3271eac",
   "metadata": {
    "tags": []
   },
   "outputs": [],
   "source": [
    "predicted= regressor.predict(x_test)"
   ]
  },
  {
   "cell_type": "code",
   "execution_count": 163,
   "id": "51d460cc-427a-4a18-a3e5-df3d317a3918",
   "metadata": {
    "tags": []
   },
   "outputs": [
    {
     "name": "stdout",
     "output_type": "stream",
     "text": [
      "            open      high       low    volume\n",
      "367069   48.1800   48.6100   47.8400   2298305\n",
      "616460  113.4100  113.6600  112.6400    830341\n",
      "296046  193.5600  193.5600  190.0000    819859\n",
      "553040   81.0500   81.9300   80.5800   6439703\n",
      "96249    73.7000   74.0100   71.7240   3758359\n",
      "...          ...       ...       ...       ...\n",
      "429918   74.2100   75.5900   73.4800   1836388\n",
      "408023   62.8428   63.4285   61.9557  12990789\n",
      "532200   68.7500   70.6600   68.4100   1966483\n",
      "96986    67.0100   67.2800   65.9501   1878688\n",
      "296758  231.9900  232.9000  225.7960   1471838\n",
      "\n",
      "[154758 rows x 4 columns]\n"
     ]
    }
   ],
   "source": [
    "print(x_test)"
   ]
  },
  {
   "cell_type": "code",
   "execution_count": 164,
   "id": "05bf5a58-a233-45c1-be73-918d1c45410b",
   "metadata": {
    "tags": []
   },
   "outputs": [
    {
     "data": {
      "text/plain": [
       "(154758,)"
      ]
     },
     "execution_count": 164,
     "metadata": {},
     "output_type": "execute_result"
    }
   ],
   "source": [
    "predicted.shape"
   ]
  },
  {
   "cell_type": "code",
   "execution_count": 165,
   "id": "99f14550-1989-4c70-927e-1319dbeb3e7f",
   "metadata": {
    "tags": []
   },
   "outputs": [],
   "source": [
    "dframe = pd.DataFrame(y_test,predicted)"
   ]
  },
  {
   "cell_type": "code",
   "execution_count": 166,
   "id": "b1e115b4-b799-4ff3-8c1c-0d189523af5f",
   "metadata": {
    "tags": []
   },
   "outputs": [],
   "source": [
    "dfr = pd.DataFrame({'actual':y_test,'Predicted':predicted})"
   ]
  },
  {
   "cell_type": "code",
   "execution_count": 167,
   "id": "cdbdb8c9-8c89-43a5-9bd1-66c37684fad6",
   "metadata": {
    "tags": []
   },
   "outputs": [
    {
     "name": "stdout",
     "output_type": "stream",
     "text": [
      "          actual   Predicted\n",
      "367069   48.3800   48.263238\n",
      "616460  113.3900  113.038322\n",
      "296046  190.2350  190.861731\n",
      "553040   81.3900   81.397129\n",
      "96249    73.2300   72.433805\n",
      "...          ...         ...\n",
      "429918   75.5400   74.748438\n",
      "408023   63.0092   62.631171\n",
      "532200   69.9600   70.005437\n",
      "96986    66.2600   66.417114\n",
      "296758  228.1700  227.987663\n",
      "\n",
      "[154758 rows x 2 columns]\n"
     ]
    }
   ],
   "source": [
    "print(dfr)"
   ]
  },
  {
   "cell_type": "code",
   "execution_count": 168,
   "id": "10b8ddd4-4534-41bd-9de0-eb075176721f",
   "metadata": {
    "tags": []
   },
   "outputs": [
    {
     "data": {
      "text/html": [
       "<div>\n",
       "<style scoped>\n",
       "    .dataframe tbody tr th:only-of-type {\n",
       "        vertical-align: middle;\n",
       "    }\n",
       "\n",
       "    .dataframe tbody tr th {\n",
       "        vertical-align: top;\n",
       "    }\n",
       "\n",
       "    .dataframe thead th {\n",
       "        text-align: right;\n",
       "    }\n",
       "</style>\n",
       "<table border=\"1\" class=\"dataframe\">\n",
       "  <thead>\n",
       "    <tr style=\"text-align: right;\">\n",
       "      <th></th>\n",
       "      <th>actual</th>\n",
       "      <th>Predicted</th>\n",
       "    </tr>\n",
       "  </thead>\n",
       "  <tbody>\n",
       "    <tr>\n",
       "      <th>367069</th>\n",
       "      <td>48.380</td>\n",
       "      <td>48.263238</td>\n",
       "    </tr>\n",
       "    <tr>\n",
       "      <th>616460</th>\n",
       "      <td>113.390</td>\n",
       "      <td>113.038322</td>\n",
       "    </tr>\n",
       "    <tr>\n",
       "      <th>296046</th>\n",
       "      <td>190.235</td>\n",
       "      <td>190.861731</td>\n",
       "    </tr>\n",
       "    <tr>\n",
       "      <th>553040</th>\n",
       "      <td>81.390</td>\n",
       "      <td>81.397129</td>\n",
       "    </tr>\n",
       "    <tr>\n",
       "      <th>96249</th>\n",
       "      <td>73.230</td>\n",
       "      <td>72.433805</td>\n",
       "    </tr>\n",
       "    <tr>\n",
       "      <th>339170</th>\n",
       "      <td>48.220</td>\n",
       "      <td>48.332868</td>\n",
       "    </tr>\n",
       "    <tr>\n",
       "      <th>178157</th>\n",
       "      <td>55.430</td>\n",
       "      <td>55.623801</td>\n",
       "    </tr>\n",
       "    <tr>\n",
       "      <th>617613</th>\n",
       "      <td>42.340</td>\n",
       "      <td>42.143114</td>\n",
       "    </tr>\n",
       "    <tr>\n",
       "      <th>589539</th>\n",
       "      <td>81.150</td>\n",
       "      <td>80.153324</td>\n",
       "    </tr>\n",
       "    <tr>\n",
       "      <th>540711</th>\n",
       "      <td>91.680</td>\n",
       "      <td>91.636939</td>\n",
       "    </tr>\n",
       "  </tbody>\n",
       "</table>\n",
       "</div>"
      ],
      "text/plain": [
       "         actual   Predicted\n",
       "367069   48.380   48.263238\n",
       "616460  113.390  113.038322\n",
       "296046  190.235  190.861731\n",
       "553040   81.390   81.397129\n",
       "96249    73.230   72.433805\n",
       "339170   48.220   48.332868\n",
       "178157   55.430   55.623801\n",
       "617613   42.340   42.143114\n",
       "589539   81.150   80.153324\n",
       "540711   91.680   91.636939"
      ]
     },
     "execution_count": 168,
     "metadata": {},
     "output_type": "execute_result"
    }
   ],
   "source": [
    " dfr.head(10)"
   ]
  },
  {
   "cell_type": "code",
   "execution_count": 169,
   "id": "039dfb61-4fde-4556-8ad3-c01c5b1326e6",
   "metadata": {
    "tags": []
   },
   "outputs": [],
   "source": [
    "from sklearn.metrics import confusion_matrix,accuracy_score"
   ]
  },
  {
   "cell_type": "code",
   "execution_count": 170,
   "id": "ac2641cd-642c-41e0-8c0f-bc3858c40baf",
   "metadata": {
    "tags": []
   },
   "outputs": [
    {
     "data": {
      "text/plain": [
       "0.9999513989769861"
      ]
     },
     "execution_count": 170,
     "metadata": {},
     "output_type": "execute_result"
    }
   ],
   "source": [
    "regressor.score(x_test,y_test)"
   ]
  },
  {
   "cell_type": "code",
   "execution_count": 171,
   "id": "1c1db3b9-5c9e-4fda-a7d0-e0706c165c2e",
   "metadata": {
    "tags": []
   },
   "outputs": [],
   "source": [
    "import math"
   ]
  },
  {
   "cell_type": "code",
   "execution_count": 172,
   "id": "822c4b80-6a83-4acb-a972-f72f440576b4",
   "metadata": {
    "tags": []
   },
   "outputs": [
    {
     "name": "stdout",
     "output_type": "stream",
     "text": [
      "Mean Absolute Error 0.3382031219088533\n"
     ]
    }
   ],
   "source": [
    "print('Mean Absolute Error',metrics.mean_absolute_error(y_test,predicted))"
   ]
  },
  {
   "cell_type": "code",
   "execution_count": 173,
   "id": "114d9638-b679-4de2-9a08-80a347ff62d4",
   "metadata": {
    "tags": []
   },
   "outputs": [
    {
     "name": "stdout",
     "output_type": "stream",
     "text": [
      "Mean Squared Error 0.4680496356279965\n"
     ]
    }
   ],
   "source": [
    "print('Mean Squared Error',metrics.mean_squared_error(y_test,predicted))"
   ]
  },
  {
   "cell_type": "code",
   "execution_count": 174,
   "id": "e7d963bb-19d8-4b12-966f-d3942e1fc206",
   "metadata": {
    "tags": []
   },
   "outputs": [],
   "source": [
    "graph= dfr.head(20)"
   ]
  },
  {
   "cell_type": "code",
   "execution_count": 175,
   "id": "94b6cc8b-54d6-4e99-b7a3-fe4140041cb5",
   "metadata": {
    "tags": []
   },
   "outputs": [
    {
     "data": {
      "text/plain": [
       "<Axes: >"
      ]
     },
     "execution_count": 175,
     "metadata": {},
     "output_type": "execute_result"
    },
    {
     "data": {
      "image/png": "[encoded data removed]",
      "text/plain": [
       "<Figure size 640x480 with 1 Axes>"
      ]
     },
     "metadata": {},
     "output_type": "display_data"
    }
   ],
   "source": [
    "graph.plot(kind= 'bar')"
   ]
  },
  {
   "cell_type": "code",
   "execution_count": null,
   "id": "364e37dd-ec45-4b55-b1ed-5cdeceee11a4",
   "metadata": {},
   "outputs": [],
   "source": []
  }
 ],
 "metadata": {
  "kernelspec": {
   "display_name": "Python 3 (ipykernel)",
   "language": "python",
   "name": "python3"
  },
  "language_info": {
   "codemirror_mode": {
    "name": "ipython",
    "version": 3
   },
   "file_extension": ".py",
   "mimetype": "text/x-python",
   "name": "python",
   "nbconvert_exporter": "python",
   "pygments_lexer": "ipython3",
   "version": "3.11.5"
  }
 },
 "nbformat": 4,
 "nbformat_minor": 5
}
